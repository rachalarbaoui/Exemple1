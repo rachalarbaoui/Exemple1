{
  "nbformat": 4,
  "nbformat_minor": 0,
  "metadata": {
    "colab": {
      "name": "Untitled1.ipynb",
      "provenance": []
    },
    "kernelspec": {
      "name": "python3",
      "display_name": "Python 3"
    },
    "language_info": {
      "name": "python"
    }
  },
  "cells": [
    {
      "cell_type": "code",
      "metadata": {
        "colab": {
          "base_uri": "https://localhost:8080/"
        },
        "id": "fz_PqfUlN-0M",
        "outputId": "032f8b08-9c68-45f0-dbf5-58ce0b9dcb4b"
      },
      "source": [
        "!pip install rdflib"
      ],
      "execution_count": 5,
      "outputs": [
        {
          "output_type": "stream",
          "text": [
            "Collecting rdflib\n",
            "\u001b[?25l  Downloading https://files.pythonhosted.org/packages/d0/6b/6454aa1db753c0f8bc265a5bd5c10b5721a4bb24160fb4faf758cf6be8a1/rdflib-5.0.0-py3-none-any.whl (231kB)\n",
            "\u001b[K     |████████████████████████████████| 235kB 13.7MB/s \n",
            "\u001b[?25hCollecting isodate\n",
            "\u001b[?25l  Downloading https://files.pythonhosted.org/packages/9b/9f/b36f7774ff5ea8e428fdcfc4bb332c39ee5b9362ddd3d40d9516a55221b2/isodate-0.6.0-py2.py3-none-any.whl (45kB)\n",
            "\u001b[K     |████████████████████████████████| 51kB 6.1MB/s \n",
            "\u001b[?25hRequirement already satisfied: six in /usr/local/lib/python3.7/dist-packages (from rdflib) (1.15.0)\n",
            "Requirement already satisfied: pyparsing in /usr/local/lib/python3.7/dist-packages (from rdflib) (2.4.7)\n",
            "Installing collected packages: isodate, rdflib\n",
            "Successfully installed isodate-0.6.0 rdflib-5.0.0\n"
          ],
          "name": "stdout"
        }
      ]
    },
    {
      "cell_type": "code",
      "metadata": {
        "id": "stZDxnTpN3Ei"
      },
      "source": [
        "from rdflib import URIRef, BNode, Literal\n",
        "\n",
        "bob = URIRef(\"http://example.org/people/Bob\")\n",
        "linda = BNode()  # a GUID is generated\n",
        "\n",
        "name = Literal('Bob')  # passing a string\n",
        "age = Literal(24)  # passing a python int\n",
        "height = Literal(76.5)  # passing a python float"
      ],
      "execution_count": 6,
      "outputs": []
    },
    {
      "cell_type": "code",
      "metadata": {
        "colab": {
          "base_uri": "https://localhost:8080/",
          "height": 35
        },
        "id": "SMI-hJetOmsp",
        "outputId": "3d94d562-e67e-40e7-e932-0180cb2c4257"
      },
      "source": [
        "from rdflib import Namespace\n",
        "\n",
        "n = Namespace(\"http://example.org/people/\")\n",
        "\n",
        "n.bob  # = rdflib.term.URIRef(u'http://example.org/people/bob')\n",
        "n.eve  # = rdflib.term.URIRef(u'http://example.org/people/eve')"
      ],
      "execution_count": 7,
      "outputs": [
        {
          "output_type": "execute_result",
          "data": {
            "application/vnd.google.colaboratory.intrinsic+json": {
              "type": "string"
            },
            "text/plain": [
              "rdflib.term.URIRef('http://example.org/people/eve')"
            ]
          },
          "metadata": {
            "tags": []
          },
          "execution_count": 7
        }
      ]
    },
    {
      "cell_type": "code",
      "metadata": {
        "colab": {
          "base_uri": "https://localhost:8080/",
          "height": 35
        },
        "id": "-flBgFT3Opym",
        "outputId": "77935809-4c25-4bfb-f24e-ee15297b90d0"
      },
      "source": [
        "from rdflib.namespace import CSVW, DC, DCAT, DCTERMS, DOAP, FOAF, ODRL2, ORG, OWL, \\\n",
        "                           PROF, PROV, RDF, RDFS, SDO, SH, SKOS, SOSA, SSN, TIME, \\\n",
        "                           VOID, XMLNS, XSD\n",
        "\n",
        "RDF.type\n",
        "# = rdflib.term.URIRef(\"http://www.w3.org/1999/02/22-rdf-syntax-ns#type\")\n",
        "\n",
        "FOAF.knows\n",
        "# = rdflib.term.URIRef(\"http://xmlns.com/foaf/0.1/knows\")\n",
        "\n",
        "PROF.isProfileOf\n",
        "# = rdflib.term.URIRef(\"http://www.w3.org/ns/dx/prof/isProfileOf\")\n",
        "\n",
        "SOSA.Sensor\n",
        "# = rdflib.term.URIRef(\"http://www.w3.org/ns/sosa/Sensor\")"
      ],
      "execution_count": 8,
      "outputs": [
        {
          "output_type": "execute_result",
          "data": {
            "application/vnd.google.colaboratory.intrinsic+json": {
              "type": "string"
            },
            "text/plain": [
              "rdflib.term.URIRef('http://www.w3.org/ns/ssn/Sensor')"
            ]
          },
          "metadata": {
            "tags": []
          },
          "execution_count": 8
        }
      ]
    },
    {
      "cell_type": "code",
      "metadata": {
        "colab": {
          "base_uri": "https://localhost:8080/"
        },
        "id": "OTIZMuCrOwt_",
        "outputId": "58d6ed7e-995f-4e95-86cb-a34e5b7fb52c"
      },
      "source": [
        "from rdflib import Graph\n",
        "g = Graph()\n",
        "g.bind(\"foaf\", FOAF)\n",
        "\n",
        "g.add((bob, RDF.type, FOAF.Person))\n",
        "g.add((bob, FOAF.name, name))\n",
        "g.add((bob, FOAF.knows, linda))\n",
        "g.add((linda, RDF.type, FOAF.Person))\n",
        "g.add((linda, FOAF.name, Literal(\"Linda\")))\n",
        "\n",
        "print(g.serialize(format=\"turtle\").decode(\"utf-8\"))"
      ],
      "execution_count": 9,
      "outputs": [
        {
          "output_type": "stream",
          "text": [
            "@prefix foaf: <http://xmlns.com/foaf/0.1/> .\n",
            "\n",
            "<http://example.org/people/Bob> a foaf:Person ;\n",
            "    foaf:knows [ a foaf:Person ;\n",
            "            foaf:name \"Linda\" ] ;\n",
            "    foaf:name \"Bob\" .\n",
            "\n",
            "\n"
          ],
          "name": "stdout"
        }
      ]
    },
    {
      "cell_type": "code",
      "metadata": {
        "colab": {
          "base_uri": "https://localhost:8080/"
        },
        "id": "coUQKOHHO4A5",
        "outputId": "1cac4c33-ac24-4f54-8b15-35cd87ff9ace"
      },
      "source": [
        "g.add((bob, FOAF.age, Literal(42)))\n",
        "print(\"Bob is \", g.value(bob, FOAF.age))\n",
        "# prints: Bob is 42\n",
        "\n",
        "g.set((bob, FOAF.age, Literal(43)))  # replaces 42 set above\n",
        "print(\"Bob is now \", g.value(bob, FOAF.age))\n",
        "# prints: Bob is now 43"
      ],
      "execution_count": 10,
      "outputs": [
        {
          "output_type": "stream",
          "text": [
            "Bob is  42\n",
            "Bob is now  43\n"
          ],
          "name": "stdout"
        }
      ]
    }
  ]
}